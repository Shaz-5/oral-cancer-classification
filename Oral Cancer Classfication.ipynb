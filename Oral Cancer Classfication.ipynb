{
 "cells": [
  {
   "cell_type": "markdown",
   "id": "fe84581b",
   "metadata": {},
   "source": [
    "# Oral Cancer Classification"
   ]
  },
  {
   "cell_type": "markdown",
   "id": "91ba3557",
   "metadata": {},
   "source": [
    "## Train Test Split"
   ]
  },
  {
   "cell_type": "code",
   "execution_count": 25,
   "id": "de8400a5",
   "metadata": {},
   "outputs": [
    {
     "name": "stdout",
     "output_type": "stream",
     "text": [
      "Created training and testing subsets\n"
     ]
    }
   ],
   "source": [
    "import os\n",
    "import shutil\n",
    "import pathlib\n",
    "\n",
    "original_dir = pathlib.Path(\"Content_3class_new\")\n",
    "new_base_dir = pathlib.Path(\"oral_cancer_train_test_split\")\n",
    "\n",
    "def make_subset(subset_name, categories):\n",
    "    for category, (start_index, end_index) in categories.items():\n",
    "        dir = new_base_dir / subset_name / category\n",
    "        os.makedirs(dir, exist_ok=True)\n",
    "\n",
    "        for i in range(start_index, end_index):\n",
    "            for ext in ['.jpg', '.jpeg', '.png']:\n",
    "                fname = f\"{category}.{i}{ext}\"\n",
    "                src = original_dir / category/ fname\n",
    "                if src.exists(): \n",
    "                    shutil.copy(src, dir / fname)\n",
    "                    break\n",
    "\n",
    "# images in each category\n",
    "categories = {\n",
    "    \"normal\": (0, 213),      # 80% of 266 for training\n",
    "    \"pre_cancer\": (0, 249),   # 80% of 312 for training\n",
    "    \"oral_cancer\": (0, 226),      # 80% of 283 for training\n",
    "}\n",
    "\n",
    "# training set\n",
    "make_subset(\"train\", categories)\n",
    "\n",
    "# categories for testing\n",
    "categories = {\n",
    "    \"normal\": (213, 266),    # Remaining 20% for testing\n",
    "    \"pre_cancer\": (249, 312),  # Remaining 20% for testing\n",
    "    \"oral_cancer\": (226, 283),     # Remaining 20% for testing\n",
    "}\n",
    "\n",
    "# testing set\n",
    "make_subset(\"test\", categories)\n",
    "\n",
    "print('Created training and testing subsets')"
   ]
  },
  {
   "cell_type": "code",
   "execution_count": null,
   "id": "d926a30f",
   "metadata": {},
   "outputs": [],
   "source": []
  },
  {
   "cell_type": "code",
   "execution_count": 23,
   "id": "667b3dbd",
   "metadata": {},
   "outputs": [],
   "source": []
  },
  {
   "cell_type": "code",
   "execution_count": null,
   "id": "f62abb63",
   "metadata": {},
   "outputs": [],
   "source": []
  }
 ],
 "metadata": {
  "kernelspec": {
   "display_name": "Python 3 (ipykernel)",
   "language": "python",
   "name": "python3"
  },
  "language_info": {
   "codemirror_mode": {
    "name": "ipython",
    "version": 3
   },
   "file_extension": ".py",
   "mimetype": "text/x-python",
   "name": "python",
   "nbconvert_exporter": "python",
   "pygments_lexer": "ipython3",
   "version": "3.10.12"
  }
 },
 "nbformat": 4,
 "nbformat_minor": 5
}
